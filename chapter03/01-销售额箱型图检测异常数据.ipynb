{
 "cells": [
  {
   "cell_type": "code",
   "execution_count": 49,
   "metadata": {},
   "outputs": [],
   "source": [
    "import pandas as pd\n",
    "import numpy as np\n",
    "from matplotlib import pyplot as plt\n",
    "\n",
    "# 指定默认字体 用来正常显示中文标签\n",
    "plt.rcParams['font.sans-serif'] = ['SimHei']\n",
    "# 解决保存图像是负号'-'显示为方块的问题\n",
    "plt.rcParams['axes.unicode_minus'] = False"
   ]
  },
  {
   "cell_type": "code",
   "execution_count": 2,
   "metadata": {},
   "outputs": [
    {
     "data": {
      "text/html": [
       "<div>\n",
       "<style scoped>\n",
       "    .dataframe tbody tr th:only-of-type {\n",
       "        vertical-align: middle;\n",
       "    }\n",
       "\n",
       "    .dataframe tbody tr th {\n",
       "        vertical-align: top;\n",
       "    }\n",
       "\n",
       "    .dataframe thead th {\n",
       "        text-align: right;\n",
       "    }\n",
       "</style>\n",
       "<table border=\"1\" class=\"dataframe\">\n",
       "  <thead>\n",
       "    <tr style=\"text-align: right;\">\n",
       "      <th></th>\n",
       "      <th>日期</th>\n",
       "      <th>销量</th>\n",
       "    </tr>\n",
       "  </thead>\n",
       "  <tbody>\n",
       "    <tr>\n",
       "      <th>0</th>\n",
       "      <td>2015-03-01</td>\n",
       "      <td>51.0</td>\n",
       "    </tr>\n",
       "    <tr>\n",
       "      <th>1</th>\n",
       "      <td>2015-02-28</td>\n",
       "      <td>2618.2</td>\n",
       "    </tr>\n",
       "    <tr>\n",
       "      <th>2</th>\n",
       "      <td>2015-02-27</td>\n",
       "      <td>2608.4</td>\n",
       "    </tr>\n",
       "    <tr>\n",
       "      <th>3</th>\n",
       "      <td>2015-02-26</td>\n",
       "      <td>2651.9</td>\n",
       "    </tr>\n",
       "    <tr>\n",
       "      <th>4</th>\n",
       "      <td>2015-02-25</td>\n",
       "      <td>3442.1</td>\n",
       "    </tr>\n",
       "  </tbody>\n",
       "</table>\n",
       "</div>"
      ],
      "text/plain": [
       "          日期      销量\n",
       "0 2015-03-01    51.0\n",
       "1 2015-02-28  2618.2\n",
       "2 2015-02-27  2608.4\n",
       "3 2015-02-26  2651.9\n",
       "4 2015-02-25  3442.1"
      ]
     },
     "execution_count": 2,
     "metadata": {},
     "output_type": "execute_result"
    }
   ],
   "source": [
    "file_path = 'data/catering_sale.xls'\n",
    "data = pd.read_excel(file_path)\n",
    "data.head()"
   ]
  },
  {
   "cell_type": "code",
   "execution_count": 3,
   "metadata": {},
   "outputs": [
    {
     "data": {
      "text/plain": [
       "(201, 2)"
      ]
     },
     "execution_count": 3,
     "metadata": {},
     "output_type": "execute_result"
    }
   ],
   "source": [
    "data.shape"
   ]
  },
  {
   "cell_type": "code",
   "execution_count": 4,
   "metadata": {},
   "outputs": [
    {
     "name": "stdout",
     "output_type": "stream",
     "text": [
      "<class 'pandas.core.frame.DataFrame'>\n",
      "RangeIndex: 201 entries, 0 to 200\n",
      "Data columns (total 2 columns):\n",
      "日期    201 non-null datetime64[ns]\n",
      "销量    200 non-null float64\n",
      "dtypes: datetime64[ns](1), float64(1)\n",
      "memory usage: 3.2 KB\n"
     ]
    }
   ],
   "source": [
    "# 销量有一个为空\n",
    "data.info()"
   ]
  },
  {
   "cell_type": "code",
   "execution_count": 5,
   "metadata": {},
   "outputs": [
    {
     "data": {
      "text/plain": [
       "日期    0.000000\n",
       "销量    0.004975\n",
       "dtype: float64"
      ]
     },
     "execution_count": 5,
     "metadata": {},
     "output_type": "execute_result"
    }
   ],
   "source": [
    "data.isnull().mean()"
   ]
  },
  {
   "cell_type": "code",
   "execution_count": 6,
   "metadata": {},
   "outputs": [
    {
     "data": {
      "text/html": [
       "<div>\n",
       "<style scoped>\n",
       "    .dataframe tbody tr th:only-of-type {\n",
       "        vertical-align: middle;\n",
       "    }\n",
       "\n",
       "    .dataframe tbody tr th {\n",
       "        vertical-align: top;\n",
       "    }\n",
       "\n",
       "    .dataframe thead th {\n",
       "        text-align: right;\n",
       "    }\n",
       "</style>\n",
       "<table border=\"1\" class=\"dataframe\">\n",
       "  <thead>\n",
       "    <tr style=\"text-align: right;\">\n",
       "      <th></th>\n",
       "      <th>日期</th>\n",
       "      <th>销量</th>\n",
       "    </tr>\n",
       "  </thead>\n",
       "  <tbody>\n",
       "    <tr>\n",
       "      <th>14</th>\n",
       "      <td>2015-02-14</td>\n",
       "      <td>NaN</td>\n",
       "    </tr>\n",
       "  </tbody>\n",
       "</table>\n",
       "</div>"
      ],
      "text/plain": [
       "           日期  销量\n",
       "14 2015-02-14 NaN"
      ]
     },
     "execution_count": 6,
     "metadata": {},
     "output_type": "execute_result"
    }
   ],
   "source": [
    "data[data['销量'].isnull()]"
   ]
  },
  {
   "cell_type": "code",
   "execution_count": 8,
   "metadata": {},
   "outputs": [
    {
     "data": {
      "text/html": [
       "<div>\n",
       "<style scoped>\n",
       "    .dataframe tbody tr th:only-of-type {\n",
       "        vertical-align: middle;\n",
       "    }\n",
       "\n",
       "    .dataframe tbody tr th {\n",
       "        vertical-align: top;\n",
       "    }\n",
       "\n",
       "    .dataframe thead th {\n",
       "        text-align: right;\n",
       "    }\n",
       "</style>\n",
       "<table border=\"1\" class=\"dataframe\">\n",
       "  <thead>\n",
       "    <tr style=\"text-align: right;\">\n",
       "      <th></th>\n",
       "      <th>count</th>\n",
       "      <th>mean</th>\n",
       "      <th>std</th>\n",
       "      <th>min</th>\n",
       "      <th>1%</th>\n",
       "      <th>10%</th>\n",
       "      <th>25%</th>\n",
       "      <th>50%</th>\n",
       "      <th>75%</th>\n",
       "      <th>90%</th>\n",
       "      <th>99%</th>\n",
       "      <th>max</th>\n",
       "    </tr>\n",
       "  </thead>\n",
       "  <tbody>\n",
       "    <tr>\n",
       "      <th>销量</th>\n",
       "      <td>200.0</td>\n",
       "      <td>2755.2147</td>\n",
       "      <td>751.029772</td>\n",
       "      <td>22.0</td>\n",
       "      <td>59.91</td>\n",
       "      <td>2264.67</td>\n",
       "      <td>2451.975</td>\n",
       "      <td>2655.85</td>\n",
       "      <td>3026.125</td>\n",
       "      <td>3316.64</td>\n",
       "      <td>4090.622</td>\n",
       "      <td>9106.44</td>\n",
       "    </tr>\n",
       "  </tbody>\n",
       "</table>\n",
       "</div>"
      ],
      "text/plain": [
       "    count       mean         std   min     1%      10%       25%      50%  \\\n",
       "销量  200.0  2755.2147  751.029772  22.0  59.91  2264.67  2451.975  2655.85   \n",
       "\n",
       "         75%      90%       99%      max  \n",
       "销量  3026.125  3316.64  4090.622  9106.44  "
      ]
     },
     "execution_count": 8,
     "metadata": {},
     "output_type": "execute_result"
    }
   ],
   "source": [
    "# 从下面数据中可以看出9106.44可能为异常数据\n",
    "data.describe([0.01, 0.1, 0.25, 0.5, 0.75, 0.9, 0.99]).T"
   ]
  },
  {
   "cell_type": "code",
   "execution_count": 18,
   "metadata": {},
   "outputs": [
    {
     "data": {
      "image/png": "[encoded data removed]",
      "text/plain": [
       "<Figure size 432x288 with 1 Axes>"
      ]
     },
     "metadata": {
      "needs_background": "light"
     },
     "output_type": "display_data"
    }
   ],
   "source": [
    "# 下面通过箱型图来分析\n",
    "axes = data.boxplot(column=['销量'], return_type='dict')"
   ]
  },
  {
   "cell_type": "code",
   "execution_count": 19,
   "metadata": {},
   "outputs": [
    {
     "data": {
      "text/plain": [
       "{'whiskers': [<matplotlib.lines.Line2D at 0x1235b2438>,\n",
       "  <matplotlib.lines.Line2D at 0x1235b2780>],\n",
       " 'caps': [<matplotlib.lines.Line2D at 0x1235b2ac8>,\n",
       "  <matplotlib.lines.Line2D at 0x1235b2e10>],\n",
       " 'boxes': [<matplotlib.lines.Line2D at 0x123593f98>],\n",
       " 'medians': [<matplotlib.lines.Line2D at 0x1235b2ef0>],\n",
       " 'fliers': [<matplotlib.lines.Line2D at 0x1235c44e0>],\n",
       " 'means': []}"
      ]
     },
     "execution_count": 19,
     "metadata": {},
     "output_type": "execute_result"
    }
   ],
   "source": [
    "# dir(axes)\n",
    "# axes.get_xticks[0]\n",
    "axes"
   ]
  },
  {
   "cell_type": "code",
   "execution_count": 24,
   "metadata": {},
   "outputs": [
    {
     "data": {
      "text/plain": [
       "array([1., 1., 1., 1., 1., 1., 1., 1.])"
      ]
     },
     "execution_count": 24,
     "metadata": {},
     "output_type": "execute_result"
    }
   ],
   "source": [
    "# fliers 为异常值的标签 这是一个数组 数组中是Line2D对象\n",
    "axes['fliers'][0].get_xdata()"
   ]
  },
  {
   "cell_type": "code",
   "execution_count": 25,
   "metadata": {},
   "outputs": [
    {
     "data": {
      "text/plain": [
       "array([[1.00000e+00, 5.10000e+01],\n",
       "       [1.00000e+00, 8.65000e+02],\n",
       "       [1.00000e+00, 2.20000e+01],\n",
       "       [1.00000e+00, 6.00000e+01],\n",
       "       [1.00000e+00, 6.60740e+03],\n",
       "       [1.00000e+00, 4.06030e+03],\n",
       "       [1.00000e+00, 9.10644e+03],\n",
       "       [1.00000e+00, 4.06520e+03]])"
      ]
     },
     "execution_count": 25,
     "metadata": {},
     "output_type": "execute_result"
    }
   ],
   "source": [
    "axes['fliers'][0].get_xydata()"
   ]
  },
  {
   "cell_type": "code",
   "execution_count": 46,
   "metadata": {},
   "outputs": [
    {
     "data": {
      "image/png": "[encoded data removed]",
      "text/plain": [
       "<Figure size 432x288 with 1 Axes>"
      ]
     },
     "metadata": {
      "needs_background": "light"
     },
     "output_type": "display_data"
    }
   ],
   "source": [
    "plt.figure()\n",
    "axes = data.boxplot(column=['销量'], return_type='dict')\n",
    "x = axes['fliers'][0].get_xdata()\n",
    "y = axes['fliers'][0].get_ydata()\n",
    "y = sorted(y)\n",
    "for i in range(len(y)):\n",
    "        if i > 0:\n",
    "            plt.annotate(s=y[i], \n",
    "                         xy=(x[i], y[i]), \n",
    "                         xytext=(x[i] + 0.05 - 0.8 / (y[i] - y[i - 1]), y[i])\n",
    "                        )\n",
    "        else:\n",
    "            plt.annotate(s=y[i],\n",
    "                         xy=(x[i], y[i]), \n",
    "                         xytext=(x[i] + 0.1, y[i]),\n",
    "#                          arrowprops=dict(facecolor='black', shrink=0.05, width=2, headwidth=8, headlength=10)\n",
    "                        )\n",
    "plt.show()"
   ]
  },
  {
   "cell_type": "code",
   "execution_count": 73,
   "metadata": {},
   "outputs": [
    {
     "data": {
      "text/html": [
       "<div>\n",
       "<style scoped>\n",
       "    .dataframe tbody tr th:only-of-type {\n",
       "        vertical-align: middle;\n",
       "    }\n",
       "\n",
       "    .dataframe tbody tr th {\n",
       "        vertical-align: top;\n",
       "    }\n",
       "\n",
       "    .dataframe thead th {\n",
       "        text-align: right;\n",
       "    }\n",
       "</style>\n",
       "<table border=\"1\" class=\"dataframe\">\n",
       "  <thead>\n",
       "    <tr style=\"text-align: right;\">\n",
       "      <th></th>\n",
       "      <th>销量</th>\n",
       "      <th>区间</th>\n",
       "    </tr>\n",
       "  </thead>\n",
       "  <tbody>\n",
       "    <tr>\n",
       "      <th>0</th>\n",
       "      <td>51.0</td>\n",
       "      <td>(0, 500]</td>\n",
       "    </tr>\n",
       "    <tr>\n",
       "      <th>1</th>\n",
       "      <td>2618.2</td>\n",
       "      <td>(2500, 3000]</td>\n",
       "    </tr>\n",
       "    <tr>\n",
       "      <th>2</th>\n",
       "      <td>2608.4</td>\n",
       "      <td>(2500, 3000]</td>\n",
       "    </tr>\n",
       "    <tr>\n",
       "      <th>3</th>\n",
       "      <td>2651.9</td>\n",
       "      <td>(2500, 3000]</td>\n",
       "    </tr>\n",
       "    <tr>\n",
       "      <th>4</th>\n",
       "      <td>3442.1</td>\n",
       "      <td>(3000, 3500]</td>\n",
       "    </tr>\n",
       "  </tbody>\n",
       "</table>\n",
       "</div>"
      ],
      "text/plain": [
       "       销量            区间\n",
       "0    51.0      (0, 500]\n",
       "1  2618.2  (2500, 3000]\n",
       "2  2608.4  (2500, 3000]\n",
       "3  2651.9  (2500, 3000]\n",
       "4  3442.1  (3000, 3500]"
      ]
     },
     "execution_count": 73,
     "metadata": {},
     "output_type": "execute_result"
    }
   ],
   "source": [
    "bins = list(range(0, 4500, 500))\n",
    "df = pd.cut(data['销量'],bins=bins)\n",
    "df = pd.concat([data['销量'], pd.DataFrame(df)], axis=1)\n",
    "df.columns = ['销量', '区间']\n",
    "df.head()"
   ]
  },
  {
   "cell_type": "code",
   "execution_count": 96,
   "metadata": {},
   "outputs": [
    {
     "data": {
      "text/html": [
       "<div>\n",
       "<style scoped>\n",
       "    .dataframe tbody tr th:only-of-type {\n",
       "        vertical-align: middle;\n",
       "    }\n",
       "\n",
       "    .dataframe tbody tr th {\n",
       "        vertical-align: top;\n",
       "    }\n",
       "\n",
       "    .dataframe thead th {\n",
       "        text-align: right;\n",
       "    }\n",
       "</style>\n",
       "<table border=\"1\" class=\"dataframe\">\n",
       "  <thead>\n",
       "    <tr style=\"text-align: right;\">\n",
       "      <th></th>\n",
       "      <th>组段</th>\n",
       "      <th>频数</th>\n",
       "      <th>频率</th>\n",
       "      <th>累计频率</th>\n",
       "    </tr>\n",
       "  </thead>\n",
       "  <tbody>\n",
       "    <tr>\n",
       "      <th>0</th>\n",
       "      <td>(0, 500]</td>\n",
       "      <td>3</td>\n",
       "      <td>1.53%</td>\n",
       "      <td>1.53%</td>\n",
       "    </tr>\n",
       "    <tr>\n",
       "      <th>1</th>\n",
       "      <td>(500, 1000]</td>\n",
       "      <td>1</td>\n",
       "      <td>0.51%</td>\n",
       "      <td>2.04%</td>\n",
       "    </tr>\n",
       "    <tr>\n",
       "      <th>2</th>\n",
       "      <td>(1000, 1500]</td>\n",
       "      <td>0</td>\n",
       "      <td>0.00%</td>\n",
       "      <td>2.04%</td>\n",
       "    </tr>\n",
       "    <tr>\n",
       "      <th>3</th>\n",
       "      <td>(1500, 2000]</td>\n",
       "      <td>1</td>\n",
       "      <td>0.51%</td>\n",
       "      <td>2.55%</td>\n",
       "    </tr>\n",
       "    <tr>\n",
       "      <th>4</th>\n",
       "      <td>(2000, 2500]</td>\n",
       "      <td>53</td>\n",
       "      <td>27.04%</td>\n",
       "      <td>29.59%</td>\n",
       "    </tr>\n",
       "    <tr>\n",
       "      <th>5</th>\n",
       "      <td>(2500, 3000]</td>\n",
       "      <td>87</td>\n",
       "      <td>44.39%</td>\n",
       "      <td>73.98%</td>\n",
       "    </tr>\n",
       "    <tr>\n",
       "      <th>6</th>\n",
       "      <td>(3000, 3500]</td>\n",
       "      <td>44</td>\n",
       "      <td>22.45%</td>\n",
       "      <td>96.43%</td>\n",
       "    </tr>\n",
       "    <tr>\n",
       "      <th>7</th>\n",
       "      <td>(3500, 4000]</td>\n",
       "      <td>7</td>\n",
       "      <td>3.57%</td>\n",
       "      <td>100.00%</td>\n",
       "    </tr>\n",
       "  </tbody>\n",
       "</table>\n",
       "</div>"
      ],
      "text/plain": [
       "             组段  频数      频率     累计频率\n",
       "0      (0, 500]   3   1.53%    1.53%\n",
       "1   (500, 1000]   1   0.51%    2.04%\n",
       "2  (1000, 1500]   0   0.00%    2.04%\n",
       "3  (1500, 2000]   1   0.51%    2.55%\n",
       "4  (2000, 2500]  53  27.04%   29.59%\n",
       "5  (2500, 3000]  87  44.39%   73.98%\n",
       "6  (3000, 3500]  44  22.45%   96.43%\n",
       "7  (3500, 4000]   7   3.57%  100.00%"
      ]
     },
     "execution_count": 96,
     "metadata": {},
     "output_type": "execute_result"
    }
   ],
   "source": [
    "\n",
    "# pd.DataFrame(df['区间'].value_counts(), columns=['组段', '频数'])\n",
    "result = df['区间'].value_counts().reset_index()\n",
    "result.columns=['组段', '频数']\n",
    "result = result.sort_values(by=['组段'])\n",
    "result.index = range(len(result))\n",
    "result['频率'] = result['频数'] / result['频数'].sum()\n",
    "result['累计频率'] = result['频率'].cumsum()\n",
    "result['频率'] = result['频率'].apply(lambda x: format(x, '.2%'))\n",
    "result['累计频率'] = result['累计频率'].apply(lambda x: format(x, '.2%'))\n",
    "result"
   ]
  },
  {
   "cell_type": "code",
   "execution_count": 97,
   "metadata": {},
   "outputs": [
    {
     "data": {
      "text/html": [
       "<div>\n",
       "<style scoped>\n",
       "    .dataframe tbody tr th:only-of-type {\n",
       "        vertical-align: middle;\n",
       "    }\n",
       "\n",
       "    .dataframe tbody tr th {\n",
       "        vertical-align: top;\n",
       "    }\n",
       "\n",
       "    .dataframe thead th {\n",
       "        text-align: right;\n",
       "    }\n",
       "</style>\n",
       "<table border=\"1\" class=\"dataframe\">\n",
       "  <thead>\n",
       "    <tr style=\"text-align: right;\">\n",
       "      <th></th>\n",
       "      <th>index</th>\n",
       "      <th>销量</th>\n",
       "      <th>区间</th>\n",
       "    </tr>\n",
       "  </thead>\n",
       "  <tbody>\n",
       "    <tr>\n",
       "      <th>0</th>\n",
       "      <td>1</td>\n",
       "      <td>2618.2</td>\n",
       "      <td>(2500, 3000]</td>\n",
       "    </tr>\n",
       "    <tr>\n",
       "      <th>1</th>\n",
       "      <td>2</td>\n",
       "      <td>2608.4</td>\n",
       "      <td>(2500, 3000]</td>\n",
       "    </tr>\n",
       "    <tr>\n",
       "      <th>2</th>\n",
       "      <td>3</td>\n",
       "      <td>2651.9</td>\n",
       "      <td>(2500, 3000]</td>\n",
       "    </tr>\n",
       "    <tr>\n",
       "      <th>3</th>\n",
       "      <td>13</td>\n",
       "      <td>2699.3</td>\n",
       "      <td>(2500, 3000]</td>\n",
       "    </tr>\n",
       "    <tr>\n",
       "      <th>4</th>\n",
       "      <td>18</td>\n",
       "      <td>2742.8</td>\n",
       "      <td>(2500, 3000]</td>\n",
       "    </tr>\n",
       "  </tbody>\n",
       "</table>\n",
       "</div>"
      ],
      "text/plain": [
       "   index      销量            区间\n",
       "0      1  2618.2  (2500, 3000]\n",
       "1      2  2608.4  (2500, 3000]\n",
       "2      3  2651.9  (2500, 3000]\n",
       "3     13  2699.3  (2500, 3000]\n",
       "4     18  2742.8  (2500, 3000]"
      ]
     },
     "execution_count": 97,
     "metadata": {},
     "output_type": "execute_result"
    }
   ],
   "source": [
    "df[(df['销量'] > 2500) & (df['销量'] < 3001)].reset_index().head()"
   ]
  },
  {
   "cell_type": "code",
   "execution_count": null,
   "metadata": {},
   "outputs": [],
   "source": []
  }
 ],
 "metadata": {
  "kernelspec": {
   "display_name": "Python 3",
   "language": "python",
   "name": "python3"
  },
  "language_info": {
   "codemirror_mode": {
    "name": "ipython",
    "version": 3
   },
   "file_extension": ".py",
   "mimetype": "text/x-python",
   "name": "python",
   "nbconvert_exporter": "python",
   "pygments_lexer": "ipython3",
   "version": "3.7.3"
  }
 },
 "nbformat": 4,
 "nbformat_minor": 2
}
